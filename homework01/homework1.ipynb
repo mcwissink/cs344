{
 "cells": [
  {
   "cell_type": "markdown",
   "metadata": {
    "collapsed": true
   },
   "source": [
    "# Homework 1"
   ]
  },
  {
   "cell_type": "markdown",
   "metadata": {},
   "source": [
    "## 1.1\n",
    "\n",
    "Introspection might give a little insight into the congnitive processes, but I don't think it is valuable for modelling the mind. If you really wanted to model the human mind, monitoring it through experiments or through external observation would seem to be more powerful. The problem with instrospection is that it is subjective, despite the attempts for the practitioner to be unbiased in their analysis. It seems that humans tend to overestimate their thought processes/intelligence, when it really isn't all that complicated. Rather, it's the simple, unconscious subprocesses that are impressive aspects of the brain."
   ]
  },
  {
   "cell_type": "markdown",
   "metadata": {},
   "source": [
    "## 1.2\n",
    "\n",
    "Describe your TSP problem formulation."
   ]
  },
  {
   "cell_type": "code",
   "execution_count": 56,
   "metadata": {},
   "outputs": [
    {
     "name": "stdout",
     "output_type": "stream",
     "text": [
      "Hill-climbing:\n",
      "\tSolution: {'a': 'b', 'b': 'e', 'c': 'd', 'd': 'a', 'e': 'c'}\n",
      "\tValue:    1120.249167414583\n",
      "\tGoal?     False\n",
      "Simulated annealing:\n",
      "\tSolution: {'a': 'b', 'b': 'e', 'c': 'd', 'd': 'a', 'e': 'c'}\n",
      "\tValue:    1120.249167414583\n",
      "\tGoal?     False\n"
     ]
    }
   ],
   "source": [
    "from search import Problem, hill_climbing, simulated_annealing, exp_schedule\n",
    "from itertools import combinations\n",
    "from copy import deepcopy\n",
    "from functools import reduce\n",
    "import math\n",
    "\n",
    "class TSP(Problem):\n",
    "    def __init__(self, locations, initial):\n",
    "        self.locations = locations\n",
    "        self.initial = initial\n",
    "     \n",
    "    def actions(self, state): \n",
    "        return list(filter(lambda c: state[c[0]] != c[1] and state[c[1]] != c[0],\n",
    "                           [c for c in combinations(state, 2)]))\n",
    "         \n",
    "    def goal_test(self, state): \n",
    "        return False\n",
    "    \n",
    "    def result(self, state, move):\n",
    "        new_state = deepcopy(state)\n",
    "        reversed_state = dict([reversed(i) for i in new_state.items()])\n",
    "        new_state[move[0]] = state[move[1]]\n",
    "        new_state[move[1]] = state[move[0]]\n",
    "        new_state[reversed_state[move[0]]] = move[1]\n",
    "        new_state[reversed_state[move[1]]] = move[0]\n",
    "        return new_state\n",
    "    \n",
    "    def value(self, state):\n",
    "        value = 0\n",
    "        for key in state:\n",
    "            a = self.locations[key]\n",
    "            b = self.locations[state[key]]\n",
    "            value += math.sqrt((b[0] - a[0])**2 + (b[1] - a[1])**2)\n",
    "        return -value\n",
    "initial = dict(\n",
    "    a='b',\n",
    "    b='c',\n",
    "    c='d',\n",
    "    d='e',\n",
    "    e='a' \n",
    ") \n",
    "locations = dict(\n",
    "    a=(91, 492), \n",
    "    b=(400, 327), \n",
    "    c=(253, 288), \n",
    "    d=(165, 299),\n",
    "    e=(562, 293), \n",
    ")\n",
    "\n",
    "p = TSP(locations, initial)\n",
    "\n",
    "hill_solution = hill_climbing(p)\n",
    "print('Hill-climbing:')\n",
    "print('\\tSolution: ' + str(hill_solution))\n",
    "print('\\tValue:    ' + str(-p.value(hill_solution)))\n",
    "print('\\tGoal?     ' + str(p.goal_test(hill_solution)))\n",
    "\n",
    "\n",
    "annealing_solution = simulated_annealing(\n",
    "    p,\n",
    "    exp_schedule(k=20, lam=0.005, limit=10000)\n",
    ")\n",
    "print('Simulated annealing:')\n",
    "print('\\tSolution: ' + str(annealing_solution))\n",
    "print('\\tValue:    ' + str(-p.value(annealing_solution)))\n",
    "print('\\tGoal?     ' + str(p.goal_test(annealing_solution)))\n"
   ]
  },
  {
   "cell_type": "markdown",
   "metadata": {},
   "source": [
    "Describe your sample city-domain and how your code does on it."
   ]
  },
  {
   "cell_type": "code",
   "execution_count": 46,
   "metadata": {},
   "outputs": [
    {
     "name": "stdout",
     "output_type": "stream",
     "text": [
      "Here's your code to run the TSP problem\n"
     ]
    }
   ],
   "source": [
    "print('Here\\'s your code to run the TSP problem')"
   ]
  },
  {
   "cell_type": "markdown",
   "metadata": {},
   "source": [
    "Make some parting comments on this problem."
   ]
  },
  {
   "cell_type": "markdown",
   "metadata": {},
   "source": [
    "## 1.3\n",
    "\n",
    "Follow the same pattern for this problem."
   ]
  },
  {
   "cell_type": "code",
   "execution_count": 3,
   "metadata": {},
   "outputs": [
    {
     "name": "stdout",
     "output_type": "stream",
     "text": [
      "Here's yet more code\n"
     ]
    }
   ],
   "source": [
    "print('Here\\'s yet more code')"
   ]
  },
  {
   "cell_type": "code",
   "execution_count": null,
   "metadata": {},
   "outputs": [],
   "source": []
  },
  {
   "cell_type": "code",
   "execution_count": null,
   "metadata": {},
   "outputs": [],
   "source": []
  },
  {
   "cell_type": "code",
   "execution_count": null,
   "metadata": {},
   "outputs": [],
   "source": []
  }
 ],
 "metadata": {
  "kernelspec": {
   "display_name": "Python 3",
   "language": "python",
   "name": "python3"
  },
  "language_info": {
   "codemirror_mode": {
    "name": "ipython",
    "version": 3
   },
   "file_extension": ".py",
   "mimetype": "text/x-python",
   "name": "python",
   "nbconvert_exporter": "python",
   "pygments_lexer": "ipython3",
   "version": "3.7.3"
  }
 },
 "nbformat": 4,
 "nbformat_minor": 1
}
