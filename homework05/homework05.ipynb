{
 "cells": [
  {
   "cell_type": "markdown",
   "metadata": {
    "collapsed": true
   },
   "source": [
    " # Homework 5"
   ]
  },
  {
   "cell_type": "markdown",
   "metadata": {},
   "source": [
    "## 5.1"
   ]
  },
  {
   "cell_type": "markdown",
   "metadata": {},
   "source": [
    "If the unicorn is mythical, then it is immortal, but if it is not mythical, then it is amortal mammal. If the unicorn is either immortal or a mammal, then it is horned. The unicorn is magical if it is horned.\n",
    "Prove or disprove that the unicorn is mythical, magical, or horned.\n",
    "\n",
    "1. mythical -> ¬mortal - (¬mythical ∨ ¬mortal)\n",
    "2. ¬mythical -> mammal - (mythical ∨ mammal)\n",
    "3. ¬mortal ∨ mammal -> horned - ¬(¬mortal ∨ mammal) ∨ horned\n",
    "4. horned -> magical\n",
    "\n",
    "There is no way to prove whether the unicorn is mythical or not, since assigning T or F to mythical don't result in contradictions\n",
    "\n",
    "Proof by Contradiction for horned\n",
    "5. ¬horned\n",
    "6. (mortal ∧ ¬mammal) ∨ horned - DeMorgans(3)\n",
    "7. mortral ∧ ¬mammal           - Elimination(5, 6)\n",
    "8. ¬mythical                   - Elimination(1, 7)\n",
    "9. mythical                    - Elimination(2, 7)\n",
    "10. contradiction              - (8, 9)\n",
    "\n",
    "We conclude that the unicorn is horned, and since it is horned, the unicorn is magical (4).\n",
    "\n",
    "Doing this program in Prolog wouldn't be too hard, the logical implies correlate nicely to the rules in Prolog."
   ]
  },
  {
   "cell_type": "markdown",
   "metadata": {},
   "source": [
    " "
   ]
  },
  {
   "cell_type": "markdown",
   "metadata": {},
   "source": [
    "## 5.2"
   ]
  },
  {
   "cell_type": "markdown",
   "metadata": {},
   "source": [
    "```{prolog}\n",
    "word(astante,  a,s,t,a,n,t,e).\n",
    "word(astoria,  a,s,t,o,r,i,a).\n",
    "word(baratto,  b,a,r,a,t,t,o).\n",
    "word(cobalto,  c,o,b,a,l,t,o).\n",
    "word(pistola,  p,i,s,t,o,l,a).\n",
    "word(statale,  s,t,a,t,a,l,e). \n",
    "\n",
    "crossword(V1, V2, V3, H1, H2, H3) :-\n",
    "    word(V1, _,A,_,B,_,C,_),\n",
    "    word(V2, _,D,_,E,_,F,_),\n",
    "    word(V3, _,G,_,H,_,I,_),\n",
    "    word(H1, _,A,_,D,_,G,_),\n",
    "    word(H2, _,B,_,E,_,H,_),\n",
    "    word(H3, _,C,_,F,_,I,_),\n",
    "    V1 \\== H1,\n",
    "    V2 \\== H2,\n",
    "    V3 \\== H3.\n",
    "```"
   ]
  }
 ],
 "metadata": {
  "kernelspec": {
   "display_name": "Python 3",
   "language": "python",
   "name": "python3"
  },
  "language_info": {
   "codemirror_mode": {
    "name": "ipython",
    "version": 3
   },
   "file_extension": ".py",
   "mimetype": "text/x-python",
   "name": "python",
   "nbconvert_exporter": "python",
   "pygments_lexer": "ipython3",
   "version": "3.8.2"
  }
 },
 "nbformat": 4,
 "nbformat_minor": 1
}
