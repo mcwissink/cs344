{
 "cells": [
  {
   "cell_type": "markdown",
   "metadata": {
    "collapsed": true
   },
   "source": [
    " # Homework 3"
   ]
  },
  {
   "cell_type": "markdown",
   "metadata": {},
   "source": [
    "## 3.1"
   ]
  },
  {
   "cell_type": "markdown",
   "metadata": {},
   "source": [
    "Gain(Price) \n",
    "\n",
    "    = Entropy(WillWait) - Remainder(Price)\n",
    "\n",
    "Entropy(WillWait)\n",
    "\n",
    "    = -(p(yes)log2(yes) + p(no)log2(no))\n",
    "    \n",
    "    = -(6/12)log2(6/12) - (6/12)log(6/12)\n",
    "    \n",
    "    = 1\n",
    "\n",
    "Remainder(Price) \n",
    "\n",
    "    = (3 + 4)/(6 + 6) * Entropy(3/7, 4/7) + (2)/(6 + 6) * Entropy(2/2, 0/2) + (1 + 2)/(6 + 6) * Entropy(1/3, 2/3)\n",
    "    \n",
    "    = 7/12 * -((3/7)log2(3/7) + (4/7)log2(4/7)) + 2/12 * -((2/2)log2(2/2) + (0)log2(0)) + 3/12 * -((1/3)log2(1/3) + (2/3)log2(2/3))\n",
    "\n",
    "    = 0.804\n",
    "\n",
    "Gain(Price) \n",
    "\n",
    "    = Entropy(WillWait) - Remainder(Price)\n",
    "\t\n",
    "    = 1 - 0.804\n",
    "\t\n",
    "    = 0.196\n",
    "\n",
    "The information gain on Price is almost equivalent to the Patron, so it is just as valuable"
   ]
  },
  {
   "cell_type": "markdown",
   "metadata": {},
   "source": [
    "## 3.2"
   ]
  },
  {
   "cell_type": "markdown",
   "metadata": {},
   "source": [
    "By ignoring the sequential layers rule, it is possible to simplify the network done in class to get the desired XOR behavior out of a network. With the two input nodes connected to the output node with a threshold of 0.5, we achieve the desired OR functionality since [0, 1], [1,  0], and [1, 1] inputs all sum to a value greater than 0.5. To get the XOR behavior, we simply add a single node hidden layer and connect both input nodes to it. With a threshold of 1.5 and a weight of -2, this hidden layer will act as an AND node and apply the -2 weight to the output only when both inputs are active. So in the case of [1, 1] on the inputs, the summed input to the output node would be 0, which doesn't pass the threshold. This solution only uses one extra node, but it isn't sequential since both inputs also connect directly to the output."
   ]
  },
  {
   "cell_type": "markdown",
   "metadata": {},
   "source": [
    "## 3.3"
   ]
  },
  {
   "cell_type": "markdown",
   "metadata": {},
   "source": [
    "a. Compute the dimensions of the data structures. Include code to print these values. "
   ]
  },
  {
   "cell_type": "code",
   "execution_count": 62,
   "metadata": {},
   "outputs": [
    {
     "name": "stdout",
     "output_type": "stream",
     "text": [
      "Dimensions        \n",
      "\trows  : 506        \n",
      "\tcolumn: 14\n"
     ]
    },
    {
     "data": {
      "text/html": [
       "<div>\n",
       "<style scoped>\n",
       "    .dataframe tbody tr th:only-of-type {\n",
       "        vertical-align: middle;\n",
       "    }\n",
       "\n",
       "    .dataframe tbody tr th {\n",
       "        vertical-align: top;\n",
       "    }\n",
       "\n",
       "    .dataframe thead th {\n",
       "        text-align: right;\n",
       "    }\n",
       "</style>\n",
       "<table border=\"1\" class=\"dataframe\">\n",
       "  <thead>\n",
       "    <tr style=\"text-align: right;\">\n",
       "      <th></th>\n",
       "      <th>crim</th>\n",
       "      <th>zn</th>\n",
       "      <th>indus</th>\n",
       "      <th>chas</th>\n",
       "      <th>nox</th>\n",
       "      <th>rm</th>\n",
       "      <th>age</th>\n",
       "      <th>dis</th>\n",
       "      <th>rad</th>\n",
       "      <th>tax</th>\n",
       "      <th>ptratio</th>\n",
       "      <th>b</th>\n",
       "      <th>lstat</th>\n",
       "      <th>medv</th>\n",
       "    </tr>\n",
       "  </thead>\n",
       "  <tbody>\n",
       "    <tr>\n",
       "      <th>256</th>\n",
       "      <td>0.01538</td>\n",
       "      <td>90.0</td>\n",
       "      <td>3.75</td>\n",
       "      <td>0</td>\n",
       "      <td>0.394</td>\n",
       "      <td>7.454</td>\n",
       "      <td>34.2</td>\n",
       "      <td>6.3361</td>\n",
       "      <td>3</td>\n",
       "      <td>244</td>\n",
       "      <td>15.9</td>\n",
       "      <td>386.34</td>\n",
       "      <td>3.11</td>\n",
       "      <td>44.0</td>\n",
       "    </tr>\n",
       "    <tr>\n",
       "      <th>383</th>\n",
       "      <td>7.99248</td>\n",
       "      <td>0.0</td>\n",
       "      <td>18.10</td>\n",
       "      <td>0</td>\n",
       "      <td>0.700</td>\n",
       "      <td>5.520</td>\n",
       "      <td>100.0</td>\n",
       "      <td>1.5331</td>\n",
       "      <td>24</td>\n",
       "      <td>666</td>\n",
       "      <td>20.2</td>\n",
       "      <td>396.90</td>\n",
       "      <td>24.56</td>\n",
       "      <td>12.3</td>\n",
       "    </tr>\n",
       "    <tr>\n",
       "      <th>462</th>\n",
       "      <td>6.65492</td>\n",
       "      <td>0.0</td>\n",
       "      <td>18.10</td>\n",
       "      <td>0</td>\n",
       "      <td>0.713</td>\n",
       "      <td>6.317</td>\n",
       "      <td>83.0</td>\n",
       "      <td>2.7344</td>\n",
       "      <td>24</td>\n",
       "      <td>666</td>\n",
       "      <td>20.2</td>\n",
       "      <td>396.90</td>\n",
       "      <td>13.99</td>\n",
       "      <td>19.5</td>\n",
       "    </tr>\n",
       "    <tr>\n",
       "      <th>3</th>\n",
       "      <td>0.03237</td>\n",
       "      <td>0.0</td>\n",
       "      <td>2.18</td>\n",
       "      <td>0</td>\n",
       "      <td>0.458</td>\n",
       "      <td>6.998</td>\n",
       "      <td>45.8</td>\n",
       "      <td>6.0622</td>\n",
       "      <td>3</td>\n",
       "      <td>222</td>\n",
       "      <td>18.7</td>\n",
       "      <td>394.63</td>\n",
       "      <td>2.94</td>\n",
       "      <td>33.4</td>\n",
       "    </tr>\n",
       "    <tr>\n",
       "      <th>304</th>\n",
       "      <td>0.05515</td>\n",
       "      <td>33.0</td>\n",
       "      <td>2.18</td>\n",
       "      <td>0</td>\n",
       "      <td>0.472</td>\n",
       "      <td>7.236</td>\n",
       "      <td>41.1</td>\n",
       "      <td>4.0220</td>\n",
       "      <td>7</td>\n",
       "      <td>222</td>\n",
       "      <td>18.4</td>\n",
       "      <td>393.68</td>\n",
       "      <td>6.93</td>\n",
       "      <td>36.1</td>\n",
       "    </tr>\n",
       "  </tbody>\n",
       "</table>\n",
       "</div>"
      ],
      "text/plain": [
       "        crim    zn  indus  chas    nox     rm    age     dis  rad  tax  \\\n",
       "256  0.01538  90.0   3.75     0  0.394  7.454   34.2  6.3361    3  244   \n",
       "383  7.99248   0.0  18.10     0  0.700  5.520  100.0  1.5331   24  666   \n",
       "462  6.65492   0.0  18.10     0  0.713  6.317   83.0  2.7344   24  666   \n",
       "3    0.03237   0.0   2.18     0  0.458  6.998   45.8  6.0622    3  222   \n",
       "304  0.05515  33.0   2.18     0  0.472  7.236   41.1  4.0220    7  222   \n",
       "\n",
       "     ptratio       b  lstat  medv  \n",
       "256     15.9  386.34   3.11  44.0  \n",
       "383     20.2  396.90  24.56  12.3  \n",
       "462     20.2  396.90  13.99  19.5  \n",
       "3       18.7  394.63   2.94  33.4  \n",
       "304     18.4  393.68   6.93  36.1  "
      ]
     },
     "execution_count": 62,
     "metadata": {},
     "output_type": "execute_result"
    }
   ],
   "source": [
    "from keras.datasets import boston_housing\n",
    "import numpy as np\n",
    "import pandas as pd\n",
    "\n",
    "boston_df = pd.read_csv(\"https://raw.githubusercontent.com/selva86/datasets/master/BostonHousing.csv\")\n",
    "print(f'Dimensions\\\n",
    "        \\n\\trows  : {boston_df.shape[0]}\\\n",
    "        \\n\\tcolumn: {boston_df.shape[1]}')\n",
    "# Shuffle the data\n",
    "boston_df = boston_df.sample(frac=1)\n",
    "boston_df.head()"
   ]
  },
  {
   "cell_type": "markdown",
   "metadata": {},
   "source": [
    "b. Construct a suitable testing set, training set, and validation set for this data. Submit code to create these datasets but do not include the datasets themselves. "
   ]
  },
  {
   "cell_type": "code",
   "execution_count": 61,
   "metadata": {},
   "outputs": [
    {
     "name": "stdout",
     "output_type": "stream",
     "text": [
      "Data        \n",
      "\tTest: (50, 14)        \n",
      "\tTraining: (400, 14)        \n",
      "\tValidation: (56, 14)\n"
     ]
    }
   ],
   "source": [
    "# Test data\n",
    "test = boston_df.tail(50)\n",
    "\n",
    "# Training/validation data\n",
    "nontest = boston_df.head(456)\n",
    "# Training data\n",
    "training = nontest.head(400)\n",
    "# Validation data\n",
    "validation = boston_df.tail(56)\n",
    "\n",
    "print(f'Data\\\n",
    "        \\n\\tTest: {test.shape}\\\n",
    "        \\n\\tTraining: {training.shape}\\\n",
    "        \\n\\tValidation: {validation.shape}')"
   ]
  },
  {
   "cell_type": "markdown",
   "metadata": {},
   "source": [
    "c. Create one new synthetic feature that could be useful for machine learning in this domain. Explain what it is and why it might be useful, and submit code to add it to the dataset."
   ]
  },
  {
   "cell_type": "code",
   "execution_count": 64,
   "metadata": {},
   "outputs": [
    {
     "name": "stdout",
     "output_type": "stream",
     "text": [
      "(506, 15)\n",
      "256     32.734102\n",
      "383    120.652174\n",
      "462    105.429793\n",
      "3       31.723350\n",
      "304     30.679934\n",
      "Name: tax_per_room, dtype: float64\n"
     ]
    }
   ],
   "source": [
    "boston_df['tax_per_room'] = boston_df['tax']/boston_df['rm']\n",
    "print(boston_df.shape)\n",
    "print(boston_df['tax_per_room'].head())"
   ]
  },
  {
   "cell_type": "markdown",
   "metadata": {},
   "source": [
    "This synthetic feature represents how expensive the average room/housing is in the location by dividing the full-value property-tax rate by the average number of rooms per dwelling. This could be used for measuring the affluence of a given neighborhood."
   ]
  }
 ],
 "metadata": {
  "kernelspec": {
   "display_name": "Python 3",
   "language": "python",
   "name": "python3"
  },
  "language_info": {
   "codemirror_mode": {
    "name": "ipython",
    "version": 3
   },
   "file_extension": ".py",
   "mimetype": "text/x-python",
   "name": "python",
   "nbconvert_exporter": "python",
   "pygments_lexer": "ipython3",
   "version": "3.8.2"
  }
 },
 "nbformat": 4,
 "nbformat_minor": 1
}
