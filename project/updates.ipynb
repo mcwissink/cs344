{
 "cells": [
  {
   "cell_type": "markdown",
   "metadata": {},
   "source": [
    "# Updates\n",
    "\n",
    "Worked on the tuning of the rewards and the network. Refactored code from a test file into the appropriate agent.py and main.py files. Added argument parsing for ease of use when trying to train. Continued researching the topic and experimenting with different networks to try to improve results."
   ]
  }
 ],
 "metadata": {
  "kernelspec": {
   "display_name": "Python 3",
   "language": "python",
   "name": "python3"
  },
  "language_info": {
   "codemirror_mode": {
    "name": "ipython",
    "version": 3
   },
   "file_extension": ".py",
   "mimetype": "text/x-python",
   "name": "python",
   "nbconvert_exporter": "python",
   "pygments_lexer": "ipython3",
   "version": "3.8.2"
  }
 },
 "nbformat": 4,
 "nbformat_minor": 4
}
