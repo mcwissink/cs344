{
 "cells": [
  {
   "cell_type": "markdown",
   "metadata": {},
   "source": [
    "# Proposal\n",
    "\n",
    "The goal for my project is to develop a neural network that can efficiently solve the wumpus world problem. This project would make me explore topics on reinforcement learning and Q-learning. The wumpus world problem is a game that is easy enough to code and be quickly simulated for fast training. I also want to make the game more interesting by having the wumpus move.\n",
    "\n",
    "Without knowing much about reinforcement leaning, I could imagine that the network would take in the surrounding cells as input and have all possible actions as a softmax output. I will have to do more research on how to properly train this model."
   ]
  }
 ],
 "metadata": {
  "kernelspec": {
   "display_name": "Python 3",
   "language": "python",
   "name": "python3"
  },
  "language_info": {
   "codemirror_mode": {
    "name": "ipython",
    "version": 3
   },
   "file_extension": ".py",
   "mimetype": "text/x-python",
   "name": "python",
   "nbconvert_exporter": "python",
   "pygments_lexer": "ipython3",
   "version": "3.8.2"
  }
 },
 "nbformat": 4,
 "nbformat_minor": 4
}
